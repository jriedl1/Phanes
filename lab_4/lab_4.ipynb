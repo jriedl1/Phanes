{
 "cells": [
  {
   "cell_type": "markdown",
   "metadata": {},
   "source": [
    "# [![Open In Colab](https://colab.research.google.com/assets/colab-badge.svg)](https://colab.research.google.com/github/jriedl1/phanes/blob/test/lab_4.ipynb)"
   ]
  },
  {
   "cell_type": "markdown",
   "metadata": {},
   "source": [
    "Exercise 1:"
   ]
  },
  {
   "cell_type": "code",
   "execution_count": null,
   "metadata": {},
   "outputs": [],
   "source": [
    "latitude_nyc = 40.7128\n",
    "longitude_nyc = -74.0060\n",
    "pop_nyc = 8336817\n",
    "area_nyc = 783.8"
   ]
  },
  {
   "cell_type": "code",
   "execution_count": null,
   "metadata": {},
   "outputs": [],
   "source": [
    "pop_density_nyc = pop_nyc / area_nyc"
   ]
  },
  {
   "cell_type": "code",
   "execution_count": null,
   "metadata": {},
   "outputs": [],
   "source": [
    "pop_density_nyc"
   ]
  },
  {
   "cell_type": "code",
   "execution_count": null,
   "metadata": {},
   "outputs": [],
   "source": [
    "print(f\"Latitude: {latitude_nyc}, Longitude: {longitude_nyc}\")"
   ]
  },
  {
   "cell_type": "markdown",
   "metadata": {},
   "source": [
    "Exercise 2:"
   ]
  },
  {
   "cell_type": "code",
   "execution_count": null,
   "metadata": {},
   "outputs": [],
   "source": [
    "san_fransisco = \"San Fransisco\""
   ]
  },
  {
   "cell_type": "code",
   "execution_count": null,
   "metadata": {},
   "outputs": [],
   "source": [
    "san_fransisco_upper = san_fransisco.upper()\n",
    "print(san_fransisco_upper)"
   ]
  },
  {
   "cell_type": "code",
   "execution_count": null,
   "metadata": {},
   "outputs": [],
   "source": [
    "san_fransisco_lower = san_fransisco.lower()\n",
    "print(san_fransisco_lower)"
   ]
  },
  {
   "cell_type": "code",
   "execution_count": null,
   "metadata": {},
   "outputs": [],
   "source": [
    "city_name_replaced = san_fransisco.replace(\"San\", \"Los\")\n",
    "print(city_name_replaced)"
   ]
  },
  {
   "cell_type": "markdown",
   "metadata": {},
   "source": [
    "Exercise 3:"
   ]
  },
  {
   "cell_type": "code",
   "execution_count": null,
   "metadata": {},
   "outputs": [],
   "source": [
    "cities = [\n",
    "    (\"New York City\", 40.7128, -74.0060),\n",
    "    (\"Los Angeles\", 34.0522, -118.2437),\n",
    "    (\"Chicago\", 41.8781, -87.6298),\n",
    "]"
   ]
  },
  {
   "cell_type": "code",
   "execution_count": null,
   "metadata": {},
   "outputs": [],
   "source": [
    "print(\"Cities\", cities)"
   ]
  },
  {
   "cell_type": "code",
   "execution_count": null,
   "metadata": {},
   "outputs": [],
   "source": [
    "cities += [(\"Miami\", 25.7617, -80.1918)]"
   ]
  },
  {
   "cell_type": "code",
   "execution_count": null,
   "metadata": {},
   "outputs": [],
   "source": [
    "print(\"Cities\", cities)"
   ]
  },
  {
   "cell_type": "code",
   "execution_count": null,
   "metadata": {},
   "outputs": [],
   "source": [
    "print(cities[0:2])"
   ]
  },
  {
   "cell_type": "markdown",
   "metadata": {},
   "source": [
    "Exercise 4:"
   ]
  },
  {
   "cell_type": "code",
   "execution_count": null,
   "metadata": {},
   "outputs": [],
   "source": [
    "eiffel_tower = (48.8584, 2.2945)\n",
    "print(\"Latitude:\", eiffel_tower[0])\n",
    "print(\"Longitude:\", eiffel_tower[1])"
   ]
  },
  {
   "cell_type": "code",
   "execution_count": null,
   "metadata": {},
   "outputs": [],
   "source": [
    "# eiffel_tower[0] = 48.8585"
   ]
  },
  {
   "cell_type": "markdown",
   "metadata": {},
   "source": [
    "Exercise 5:"
   ]
  },
  {
   "cell_type": "code",
   "execution_count": null,
   "metadata": {},
   "outputs": [],
   "source": [
    "countries_visited = [\"USA\", \"Germany\", \"Austria\", \"Belgium\", \"Czech Republic\"]\n",
    "countries_visited = set(countries_visited)\n",
    "print(countries_visited)"
   ]
  },
  {
   "cell_type": "code",
   "execution_count": null,
   "metadata": {},
   "outputs": [],
   "source": [
    "countries_visited.add(\"Ireland\")\n",
    "print(\"Updated Countries\", countries_visited)"
   ]
  },
  {
   "cell_type": "code",
   "execution_count": null,
   "metadata": {},
   "outputs": [],
   "source": [
    "# countries_visited.add(\"Ireland\")\n",
    "# print(\"Updated Countries\", countries_visited)"
   ]
  },
  {
   "cell_type": "markdown",
   "metadata": {},
   "source": [
    "Exercise 6:"
   ]
  },
  {
   "cell_type": "code",
   "execution_count": null,
   "metadata": {},
   "outputs": [],
   "source": [
    "amazon_river = {\n",
    "    \"Name\": \"Amazon River\",\n",
    "    \"Length\": 6400,\n",
    "    \"Countries\": [\"Brazil\", \"Peru\", \"Colombia\"],\n",
    "}"
   ]
  },
  {
   "cell_type": "code",
   "execution_count": null,
   "metadata": {},
   "outputs": [],
   "source": [
    "amazon_river.update({\"Average Discharge\": 209000})\n",
    "print(amazon_river)"
   ]
  },
  {
   "cell_type": "code",
   "execution_count": null,
   "metadata": {},
   "outputs": [],
   "source": [
    "amazon_river[\"Length\"] = 6992\n",
    "print(amazon_river)"
   ]
  },
  {
   "cell_type": "markdown",
   "metadata": {},
   "source": [
    "Exercise 7:"
   ]
  },
  {
   "cell_type": "code",
   "execution_count": null,
   "metadata": {},
   "outputs": [],
   "source": [
    "tokyo = {\"Name\": \"Tokyo\", \"Population\": 37400068, \"Coordinates\": (35.6895, 139.6917)}\n",
    "print(tokyo)"
   ]
  },
  {
   "cell_type": "code",
   "execution_count": null,
   "metadata": {},
   "outputs": [],
   "source": [
    "print(\"Population:\", tokyo[\"Population\"])"
   ]
  },
  {
   "cell_type": "code",
   "execution_count": null,
   "metadata": {},
   "outputs": [],
   "source": [
    "print(\"Latitude:\", tokyo[\"Coordinates\"][0])"
   ]
  },
  {
   "cell_type": "code",
   "execution_count": null,
   "metadata": {},
   "outputs": [],
   "source": [
    "tokyo[\"Population\"] = 14000000\n",
    "print(tokyo)"
   ]
  },
  {
   "cell_type": "markdown",
   "metadata": {},
   "source": [
    "Exercise 8:"
   ]
  },
  {
   "cell_type": "code",
   "execution_count": null,
   "metadata": {},
   "outputs": [],
   "source": [
    "sorted_cities = sorted(cities, key=lambda city: city[0])\n",
    "print(sorted_cities)"
   ]
  },
  {
   "cell_type": "code",
   "execution_count": null,
   "metadata": {},
   "outputs": [],
   "source": [
    "sorted_cities_names = [city[0] for city in sorted_cities]\n",
    "print(sorted_cities_names)"
   ]
  },
  {
   "cell_type": "code",
   "execution_count": null,
   "metadata": {},
   "outputs": [],
   "source": [
    "sorted_cities_names.pop(2)\n",
    "print(sorted_cities_names)"
   ]
  },
  {
   "cell_type": "markdown",
   "metadata": {},
   "source": [
    "Exercise 9:"
   ]
  },
  {
   "cell_type": "code",
   "execution_count": null,
   "metadata": {},
   "outputs": [],
   "source": [
    "if \"Length\" in amazon_river:\n",
    "    print(\"Length is in Amazon River\")\n",
    "else:\n",
    "    print(\"Length is not in Amazon River\")"
   ]
  },
  {
   "cell_type": "code",
   "execution_count": null,
   "metadata": {},
   "outputs": [],
   "source": [
    "print(\"Keys in the dictionary:\")\n",
    "for key in amazon_river.keys():\n",
    "    print(key)"
   ]
  },
  {
   "cell_type": "code",
   "execution_count": null,
   "metadata": {},
   "outputs": [],
   "source": [
    "print(\"Values in the dictionary:\")\n",
    "for value in amazon_river.values():\n",
    "    print(value)"
   ]
  },
  {
   "cell_type": "markdown",
   "metadata": {},
   "source": [
    "Exercise 10:"
   ]
  },
  {
   "cell_type": "code",
   "execution_count": null,
   "metadata": {},
   "outputs": [],
   "source": [
    "locations = [\n",
    "    (\"Mount Everest\", 27.9881, 86.9250),\n",
    "    (\"K2\", 35.8808, 76.5155),\n",
    "    (\"Kangchenjunga\", 27.7025, 88.1475),\n",
    "]"
   ]
  },
  {
   "cell_type": "code",
   "execution_count": null,
   "metadata": {},
   "outputs": [],
   "source": [
    "locations_names = [location[0] for location in locations]\n",
    "print(locations_names)"
   ]
  },
  {
   "cell_type": "code",
   "execution_count": null,
   "metadata": {},
   "outputs": [],
   "source": [
    "locations_dict = {location[0]: (location[1], location[2]) for location in locations}\n",
    "print(locations_dict)"
   ]
  },
  {
   "cell_type": "code",
   "execution_count": null,
   "metadata": {},
   "outputs": [],
   "source": [
    "print(locations_dict[\"K2\"][0])"
   ]
  },
  {
   "cell_type": "markdown",
   "metadata": {},
   "source": [
    "Exercise 11:"
   ]
  },
  {
   "cell_type": "code",
   "execution_count": null,
   "metadata": {},
   "outputs": [],
   "source": [
    "geographic_feature = \"Amazon River\"\n",
    "print(geographic_feature)"
   ]
  },
  {
   "cell_type": "code",
   "execution_count": null,
   "metadata": {},
   "outputs": [],
   "source": [
    "geographic_feature_lower = geographic_feature.lower()\n",
    "print(geographic_feature_lower)"
   ]
  },
  {
   "cell_type": "code",
   "execution_count": null,
   "metadata": {},
   "outputs": [],
   "source": [
    "geographic_feature_upper = geographic_feature.upper()\n",
    "print(geographic_feature_upper)"
   ]
  },
  {
   "cell_type": "code",
   "execution_count": null,
   "metadata": {},
   "outputs": [],
   "source": [
    "country = \"Brazil\"\n",
    "full_location = geographic_feature + \", \" + country\n",
    "print(full_location)"
   ]
  },
  {
   "cell_type": "code",
   "execution_count": null,
   "metadata": {},
   "outputs": [],
   "source": [
    "repeated_feature = \"-\".join([full_location] * 3)"
   ]
  },
  {
   "cell_type": "code",
   "execution_count": null,
   "metadata": {},
   "outputs": [],
   "source": [
    "print(f\"Repeated Feature: {repeated_feature}\")"
   ]
  },
  {
   "cell_type": "markdown",
   "metadata": {},
   "source": [
    "Exercise 12:"
   ]
  },
  {
   "cell_type": "code",
   "execution_count": null,
   "metadata": {},
   "outputs": [],
   "source": [
    "lat_string = \"40.7128N\"\n",
    "long_string = \"74.0060W\"\n",
    "coordinates_exercise12 = \"Coordinates: ({}, {})\".format(lat_string, long_string)\n",
    "print(coordinates_exercise12)"
   ]
  },
  {
   "cell_type": "code",
   "execution_count": null,
   "metadata": {},
   "outputs": [],
   "source": [
    "latitude_float = float(lat_string[:-1])\n",
    "longitude_float = float(long_string[:-1])\n",
    "formatted_coordinates = \"Coordinates: ({}, {})\".format(latitude_float, longitude_float)\n",
    "print(formatted_coordinates)"
   ]
  },
  {
   "cell_type": "code",
   "execution_count": null,
   "metadata": {},
   "outputs": [],
   "source": [
    "point_wkt = f\"POINT({longitude_float} {latitude_float})\"\n",
    "print(point_wkt)"
   ]
  },
  {
   "cell_type": "markdown",
   "metadata": {},
   "source": [
    "Exercise 13:"
   ]
  },
  {
   "cell_type": "code",
   "execution_count": null,
   "metadata": {},
   "outputs": [],
   "source": []
  },
  {
   "cell_type": "markdown",
   "metadata": {},
   "source": [
    "Exercise 14:"
   ]
  },
  {
   "cell_type": "code",
   "execution_count": null,
   "metadata": {},
   "outputs": [],
   "source": [
    "city_names = [\" new york \", \"Los Angeles\", \"CHICAGO\"]"
   ]
  },
  {
   "cell_type": "code",
   "execution_count": null,
   "metadata": {},
   "outputs": [],
   "source": [
    "city_names = [city.strip().title() for city in city_names]\n",
    "print(city_names)"
   ]
  },
  {
   "cell_type": "markdown",
   "metadata": {},
   "source": [
    "Exercise 15:"
   ]
  },
  {
   "cell_type": "code",
   "execution_count": null,
   "metadata": {},
   "outputs": [],
   "source": [
    "address = \"123 Main St, Springfield, USA\"\n",
    "street, city, country = address.split(\", \")\n",
    "print(f\"Street: {street}, City: {city}, Country: {country}\")"
   ]
  },
  {
   "cell_type": "markdown",
   "metadata": {},
   "source": [
    "Exercise 16:"
   ]
  },
  {
   "cell_type": "code",
   "execution_count": null,
   "metadata": {},
   "outputs": [],
   "source": [
    "coordinates = [\n",
    "    (40.7128, -74.0060),  # New York City\n",
    "    (-33.8688, 151.2093),  # Sydney\n",
    "    (51.5074, -0.1278),  # London\n",
    "    (-22.9068, -43.1729),  # Rio de Janeiro\n",
    "    (35.6762, 139.6503),  # Tokyo\n",
    "    (-1.2921, 36.8219),  # Nairobi\n",
    "    (48.8566, 2.3522),  # Paris\n",
    "    (-34.6037, -58.3816),  # Buenos Aires\n",
    "]"
   ]
  },
  {
   "cell_type": "code",
   "execution_count": null,
   "metadata": {},
   "outputs": [],
   "source": [
    "for lat, lon in coordinates:\n",
    "    hemisphere = \"Northern\" if lat >= 0 else \"Southern\"\n",
    "    print(f\"Coordinate: ({lat}, {lon}) - {hemisphere} Hemisphere\")"
   ]
  },
  {
   "cell_type": "markdown",
   "metadata": {},
   "source": [
    "Exercise 17:"
   ]
  },
  {
   "cell_type": "code",
   "execution_count": null,
   "metadata": {},
   "outputs": [],
   "source": [
    "counter = 0\n",
    "\n",
    "while counter < len(coordinates):\n",
    "    lat, lon = coordinates[counter]\n",
    "    print(f\"Coordinate: ({lat}, {lon})\")\n",
    "\n",
    "    if lat < 0:\n",
    "        print(\"Negative latitude. Stopping loop.\")\n",
    "        break\n",
    "\n",
    "    counter += 1"
   ]
  },
  {
   "cell_type": "markdown",
   "metadata": {},
   "source": [
    "Exercise 18:"
   ]
  },
  {
   "cell_type": "code",
   "execution_count": null,
   "metadata": {},
   "outputs": [],
   "source": [
    "for lat, lon in coordinates:\n",
    "    hemisphere = \"Eastern\" if lon >= 0 else \"Western\"\n",
    "    print(f\"Coordinate: ({lat}, {lon}) - {hemisphere} Hemisphere\")"
   ]
  },
  {
   "cell_type": "markdown",
   "metadata": {},
   "source": [
    "Exercise 19:"
   ]
  },
  {
   "cell_type": "code",
   "execution_count": null,
   "metadata": {},
   "outputs": [],
   "source": [
    "print(\"Coordinates in the Southern Hemisphere:\")\n",
    "for lat, lon in coordinates:\n",
    "    if lat < 0:\n",
    "        print(f\"Coordinate: ({lat}, {lon})\")\n",
    "        continue"
   ]
  },
  {
   "cell_type": "markdown",
   "metadata": {},
   "source": [
    "Exercise 20:"
   ]
  },
  {
   "cell_type": "code",
   "execution_count": null,
   "metadata": {},
   "outputs": [],
   "source": [
    "import random\n",
    "\n",
    "count = 0\n",
    "\n",
    "\n",
    "def generate_coordinate():\n",
    "    return random.uniform(-90, 90), random.uniform(-180, 180)\n",
    "\n",
    "\n",
    "while True:\n",
    "    count += 1\n",
    "    latitude, longitude = generate_coordinate()\n",
    "    print(f\"Coordinate {count}: Latitude {latitude:.2f}, Longitude {longitude: .2f}\")\n",
    "    if latitude > 50 and longitude > 50:\n",
    "        print(f\"\\nCoordinate has met the condition\")\n",
    "        print(f\"Latitude: {latitude:.2f}, Longitude: {longitude:.2f}\")\n",
    "        print(f\"Total coordinates generated: {count}\")\n",
    "        break"
   ]
  }
 ],
 "metadata": {
  "kernelspec": {
   "display_name": "myenv",
   "language": "python",
   "name": "python3"
  },
  "language_info": {
   "codemirror_mode": {
    "name": "ipython",
    "version": 3
   },
   "file_extension": ".py",
   "mimetype": "text/x-python",
   "name": "python",
   "nbconvert_exporter": "python",
   "pygments_lexer": "ipython3",
   "version": "3.12.2"
  }
 },
 "nbformat": 4,
 "nbformat_minor": 2
}
